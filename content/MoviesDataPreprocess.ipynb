{
  "nbformat": 4,
  "nbformat_minor": 0,
  "metadata": {
    "colab": {
      "name": "MoviesDataPreprocess.ipynb",
      "provenance": [],
      "collapsed_sections": []
    },
    "kernelspec": {
      "name": "python3",
      "display_name": "Python 3"
    },
    "language_info": {
      "name": "python"
    }
  },
  "cells": [
    {
      "cell_type": "code",
      "metadata": {
        "id": "0hZXhcPo8G3j"
      },
      "source": [
        "import numpy as np\n",
        "import pandas as pd\n",
        "from ast import literal_eval\n",
        "from nltk.stem.snowball import SnowballStemmer\n",
        "from sklearn.feature_extraction.text import CountVectorizer\n",
        "from sklearn.metrics.pairwise import cosine_similarity"
      ],
      "execution_count": 1,
      "outputs": []
    },
    {
      "cell_type": "code",
      "metadata": {
        "id": "FQmvEuHE8WBr"
      },
      "source": [
        "metadata = pd.read_csv('/content/TheMoviesDataset/movies_metadata.csv', low_memory=False)\n",
        "credits = pd.read_csv('/content/TheMoviesDataset/credits.csv')\n",
        "keywords = pd.read_csv('/content/TheMoviesDataset/keywords.csv')\n",
        "metadata = metadata.drop([19730, 29503, 35587])"
      ],
      "execution_count": 4,
      "outputs": []
    },
    {
      "cell_type": "code",
      "metadata": {
        "id": "wWvZwg968ZWB"
      },
      "source": [
        "keywords['id'] = keywords['id'].astype('int')\n",
        "credits['id'] = credits['id'].astype('int')\n",
        "metadata['id'] = metadata['id'].astype('int')\n",
        "metadata = metadata.merge(credits, on='id')\n",
        "metadata = metadata.merge(keywords, on='id')"
      ],
      "execution_count": 5,
      "outputs": []
    },
    {
      "cell_type": "code",
      "metadata": {
        "id": "h4Due8UI8cJc"
      },
      "source": [
        "features = ['cast', 'crew', 'keywords', 'genres']\n",
        "for feature in features:\n",
        "    metadata[feature] = metadata[feature].apply(literal_eval)\n",
        "    \n",
        "def get_director(x):\n",
        "    for i in x:\n",
        "        if i['job'] == 'Director':\n",
        "            return i['name']\n",
        "    return np.nan\n",
        "\n",
        "def get_list(x):\n",
        "    if isinstance(x, list):\n",
        "        names = [i['name'] for i in x]\n",
        "        #Check if more than 3 elements exist. If yes, return only first three. If no, return entire list.\n",
        "        if len(names) > 3:\n",
        "            names = names[:3]\n",
        "        return names\n",
        "\n",
        "    #Return empty list in case of missing/malformed data\n",
        "    return []\n",
        "\n",
        "metadata['director'] = metadata['crew'].apply(get_director)\n",
        "\n",
        "features = ['cast', 'keywords', 'genres']\n",
        "for feature in features:\n",
        "    metadata[feature] = metadata[feature].apply(get_list)\n",
        "    \n",
        "metadata['cast'] = metadata['cast'].apply(lambda x: x[:3] if len(x) >=3 else x)"
      ],
      "execution_count": 6,
      "outputs": []
    },
    {
      "cell_type": "code",
      "metadata": {
        "colab": {
          "base_uri": "https://localhost:8080/",
          "height": 359
        },
        "id": "otVIvCKL84gk",
        "outputId": "4942a080-458d-4fa4-f076-edba31c4dbde"
      },
      "source": [
        "metadata[['title', 'cast', 'director', 'keywords', 'genres']].head(10)"
      ],
      "execution_count": 7,
      "outputs": [
        {
          "output_type": "execute_result",
          "data": {
            "text/html": [
              "<div>\n",
              "<style scoped>\n",
              "    .dataframe tbody tr th:only-of-type {\n",
              "        vertical-align: middle;\n",
              "    }\n",
              "\n",
              "    .dataframe tbody tr th {\n",
              "        vertical-align: top;\n",
              "    }\n",
              "\n",
              "    .dataframe thead th {\n",
              "        text-align: right;\n",
              "    }\n",
              "</style>\n",
              "<table border=\"1\" class=\"dataframe\">\n",
              "  <thead>\n",
              "    <tr style=\"text-align: right;\">\n",
              "      <th></th>\n",
              "      <th>title</th>\n",
              "      <th>cast</th>\n",
              "      <th>director</th>\n",
              "      <th>keywords</th>\n",
              "      <th>genres</th>\n",
              "    </tr>\n",
              "  </thead>\n",
              "  <tbody>\n",
              "    <tr>\n",
              "      <th>0</th>\n",
              "      <td>Toy Story</td>\n",
              "      <td>[Tom Hanks, Tim Allen, Don Rickles]</td>\n",
              "      <td>John Lasseter</td>\n",
              "      <td>[jealousy, toy, boy]</td>\n",
              "      <td>[Animation, Comedy, Family]</td>\n",
              "    </tr>\n",
              "    <tr>\n",
              "      <th>1</th>\n",
              "      <td>Jumanji</td>\n",
              "      <td>[Robin Williams, Jonathan Hyde, Kirsten Dunst]</td>\n",
              "      <td>Joe Johnston</td>\n",
              "      <td>[board game, disappearance, based on children'...</td>\n",
              "      <td>[Adventure, Fantasy, Family]</td>\n",
              "    </tr>\n",
              "    <tr>\n",
              "      <th>2</th>\n",
              "      <td>Grumpier Old Men</td>\n",
              "      <td>[Walter Matthau, Jack Lemmon, Ann-Margret]</td>\n",
              "      <td>Howard Deutch</td>\n",
              "      <td>[fishing, best friend, duringcreditsstinger]</td>\n",
              "      <td>[Romance, Comedy]</td>\n",
              "    </tr>\n",
              "    <tr>\n",
              "      <th>3</th>\n",
              "      <td>Waiting to Exhale</td>\n",
              "      <td>[Whitney Houston, Angela Bassett, Loretta Devine]</td>\n",
              "      <td>Forest Whitaker</td>\n",
              "      <td>[based on novel, interracial relationship, sin...</td>\n",
              "      <td>[Comedy, Drama, Romance]</td>\n",
              "    </tr>\n",
              "    <tr>\n",
              "      <th>4</th>\n",
              "      <td>Father of the Bride Part II</td>\n",
              "      <td>[Steve Martin, Diane Keaton, Martin Short]</td>\n",
              "      <td>Charles Shyer</td>\n",
              "      <td>[baby, midlife crisis, confidence]</td>\n",
              "      <td>[Comedy]</td>\n",
              "    </tr>\n",
              "    <tr>\n",
              "      <th>5</th>\n",
              "      <td>Heat</td>\n",
              "      <td>[Al Pacino, Robert De Niro, Val Kilmer]</td>\n",
              "      <td>Michael Mann</td>\n",
              "      <td>[robbery, detective, bank]</td>\n",
              "      <td>[Action, Crime, Drama]</td>\n",
              "    </tr>\n",
              "    <tr>\n",
              "      <th>6</th>\n",
              "      <td>Sabrina</td>\n",
              "      <td>[Harrison Ford, Julia Ormond, Greg Kinnear]</td>\n",
              "      <td>Sydney Pollack</td>\n",
              "      <td>[paris, brother brother relationship, chauffeur]</td>\n",
              "      <td>[Comedy, Romance]</td>\n",
              "    </tr>\n",
              "    <tr>\n",
              "      <th>7</th>\n",
              "      <td>Tom and Huck</td>\n",
              "      <td>[Jonathan Taylor Thomas, Brad Renfro, Rachael ...</td>\n",
              "      <td>Peter Hewitt</td>\n",
              "      <td>[]</td>\n",
              "      <td>[Action, Adventure, Drama]</td>\n",
              "    </tr>\n",
              "    <tr>\n",
              "      <th>8</th>\n",
              "      <td>Sudden Death</td>\n",
              "      <td>[Jean-Claude Van Damme, Powers Boothe, Dorian ...</td>\n",
              "      <td>Peter Hyams</td>\n",
              "      <td>[terrorist, hostage, explosive]</td>\n",
              "      <td>[Action, Adventure, Thriller]</td>\n",
              "    </tr>\n",
              "    <tr>\n",
              "      <th>9</th>\n",
              "      <td>GoldenEye</td>\n",
              "      <td>[Pierce Brosnan, Sean Bean, Izabella Scorupco]</td>\n",
              "      <td>Martin Campbell</td>\n",
              "      <td>[cuba, falsely accused, secret identity]</td>\n",
              "      <td>[Adventure, Action, Thriller]</td>\n",
              "    </tr>\n",
              "  </tbody>\n",
              "</table>\n",
              "</div>"
            ],
            "text/plain": [
              "                         title  ...                         genres\n",
              "0                    Toy Story  ...    [Animation, Comedy, Family]\n",
              "1                      Jumanji  ...   [Adventure, Fantasy, Family]\n",
              "2             Grumpier Old Men  ...              [Romance, Comedy]\n",
              "3            Waiting to Exhale  ...       [Comedy, Drama, Romance]\n",
              "4  Father of the Bride Part II  ...                       [Comedy]\n",
              "5                         Heat  ...         [Action, Crime, Drama]\n",
              "6                      Sabrina  ...              [Comedy, Romance]\n",
              "7                 Tom and Huck  ...     [Action, Adventure, Drama]\n",
              "8                 Sudden Death  ...  [Action, Adventure, Thriller]\n",
              "9                    GoldenEye  ...  [Adventure, Action, Thriller]\n",
              "\n",
              "[10 rows x 5 columns]"
            ]
          },
          "metadata": {
            "tags": []
          },
          "execution_count": 7
        }
      ]
    },
    {
      "cell_type": "code",
      "metadata": {
        "id": "EUiMyfEN9h2Q"
      },
      "source": [
        "stemmer = SnowballStemmer('english')\n",
        "metadata['keywords'] = metadata['keywords'].apply(lambda x: [stemmer.stem(i) for i in x])"
      ],
      "execution_count": 8,
      "outputs": []
    },
    {
      "cell_type": "code",
      "metadata": {
        "id": "F5ZbAQ4V9jwP"
      },
      "source": [
        "def clean_data(x):\n",
        "    if isinstance(x, list):\n",
        "        return [str.lower(i.replace(\" \", \"\")) for i in x]\n",
        "    else:\n",
        "        #Check if director exists. If not, return empty string\n",
        "        if isinstance(x, str):\n",
        "            return str.lower(x.replace(\" \", \"\"))\n",
        "        else:\n",
        "            return ''\n",
        "\n",
        "features = ['cast', 'keywords', 'director', 'genres']\n",
        "\n",
        "for feature in features:\n",
        "    metadata[feature] = metadata[feature].apply(clean_data)\n",
        "\n",
        "metadata['director'] = metadata['director'].apply(lambda x: [x])\n",
        "\n",
        "relevant_columns = ['title','cast', 'keywords', 'genres', 'director']\n",
        "metadata = metadata[relevant_columns]"
      ],
      "execution_count": 9,
      "outputs": []
    },
    {
      "cell_type": "code",
      "metadata": {
        "colab": {
          "base_uri": "https://localhost:8080/",
          "height": 359
        },
        "id": "ssiDXYXV9nya",
        "outputId": "6f11ddc3-d90a-44a1-f37f-40aa9627dbe5"
      },
      "source": [
        "metadata.head(10)"
      ],
      "execution_count": 10,
      "outputs": [
        {
          "output_type": "execute_result",
          "data": {
            "text/html": [
              "<div>\n",
              "<style scoped>\n",
              "    .dataframe tbody tr th:only-of-type {\n",
              "        vertical-align: middle;\n",
              "    }\n",
              "\n",
              "    .dataframe tbody tr th {\n",
              "        vertical-align: top;\n",
              "    }\n",
              "\n",
              "    .dataframe thead th {\n",
              "        text-align: right;\n",
              "    }\n",
              "</style>\n",
              "<table border=\"1\" class=\"dataframe\">\n",
              "  <thead>\n",
              "    <tr style=\"text-align: right;\">\n",
              "      <th></th>\n",
              "      <th>title</th>\n",
              "      <th>cast</th>\n",
              "      <th>keywords</th>\n",
              "      <th>genres</th>\n",
              "      <th>director</th>\n",
              "    </tr>\n",
              "  </thead>\n",
              "  <tbody>\n",
              "    <tr>\n",
              "      <th>0</th>\n",
              "      <td>Toy Story</td>\n",
              "      <td>[tomhanks, timallen, donrickles]</td>\n",
              "      <td>[jealousi, toy, boy]</td>\n",
              "      <td>[animation, comedy, family]</td>\n",
              "      <td>[johnlasseter]</td>\n",
              "    </tr>\n",
              "    <tr>\n",
              "      <th>1</th>\n",
              "      <td>Jumanji</td>\n",
              "      <td>[robinwilliams, jonathanhyde, kirstendunst]</td>\n",
              "      <td>[boardgam, disappear, basedonchildren'sbook]</td>\n",
              "      <td>[adventure, fantasy, family]</td>\n",
              "      <td>[joejohnston]</td>\n",
              "    </tr>\n",
              "    <tr>\n",
              "      <th>2</th>\n",
              "      <td>Grumpier Old Men</td>\n",
              "      <td>[waltermatthau, jacklemmon, ann-margret]</td>\n",
              "      <td>[fish, bestfriend, duringcreditssting]</td>\n",
              "      <td>[romance, comedy]</td>\n",
              "      <td>[howarddeutch]</td>\n",
              "    </tr>\n",
              "    <tr>\n",
              "      <th>3</th>\n",
              "      <td>Waiting to Exhale</td>\n",
              "      <td>[whitneyhouston, angelabassett, lorettadevine]</td>\n",
              "      <td>[basedonnovel, interracialrelationship, single...</td>\n",
              "      <td>[comedy, drama, romance]</td>\n",
              "      <td>[forestwhitaker]</td>\n",
              "    </tr>\n",
              "    <tr>\n",
              "      <th>4</th>\n",
              "      <td>Father of the Bride Part II</td>\n",
              "      <td>[stevemartin, dianekeaton, martinshort]</td>\n",
              "      <td>[babi, midlifecrisi, confid]</td>\n",
              "      <td>[comedy]</td>\n",
              "      <td>[charlesshyer]</td>\n",
              "    </tr>\n",
              "    <tr>\n",
              "      <th>5</th>\n",
              "      <td>Heat</td>\n",
              "      <td>[alpacino, robertdeniro, valkilmer]</td>\n",
              "      <td>[robberi, detect, bank]</td>\n",
              "      <td>[action, crime, drama]</td>\n",
              "      <td>[michaelmann]</td>\n",
              "    </tr>\n",
              "    <tr>\n",
              "      <th>6</th>\n",
              "      <td>Sabrina</td>\n",
              "      <td>[harrisonford, juliaormond, gregkinnear]</td>\n",
              "      <td>[pari, brotherbrotherrelationship, chauffeur]</td>\n",
              "      <td>[comedy, romance]</td>\n",
              "      <td>[sydneypollack]</td>\n",
              "    </tr>\n",
              "    <tr>\n",
              "      <th>7</th>\n",
              "      <td>Tom and Huck</td>\n",
              "      <td>[jonathantaylorthomas, bradrenfro, rachaelleig...</td>\n",
              "      <td>[]</td>\n",
              "      <td>[action, adventure, drama]</td>\n",
              "      <td>[peterhewitt]</td>\n",
              "    </tr>\n",
              "    <tr>\n",
              "      <th>8</th>\n",
              "      <td>Sudden Death</td>\n",
              "      <td>[jean-claudevandamme, powersboothe, dorianhare...</td>\n",
              "      <td>[terrorist, hostag, explos]</td>\n",
              "      <td>[action, adventure, thriller]</td>\n",
              "      <td>[peterhyams]</td>\n",
              "    </tr>\n",
              "    <tr>\n",
              "      <th>9</th>\n",
              "      <td>GoldenEye</td>\n",
              "      <td>[piercebrosnan, seanbean, izabellascorupco]</td>\n",
              "      <td>[cuba, falselyaccus, secretident]</td>\n",
              "      <td>[adventure, action, thriller]</td>\n",
              "      <td>[martincampbell]</td>\n",
              "    </tr>\n",
              "  </tbody>\n",
              "</table>\n",
              "</div>"
            ],
            "text/plain": [
              "                         title  ...          director\n",
              "0                    Toy Story  ...    [johnlasseter]\n",
              "1                      Jumanji  ...     [joejohnston]\n",
              "2             Grumpier Old Men  ...    [howarddeutch]\n",
              "3            Waiting to Exhale  ...  [forestwhitaker]\n",
              "4  Father of the Bride Part II  ...    [charlesshyer]\n",
              "5                         Heat  ...     [michaelmann]\n",
              "6                      Sabrina  ...   [sydneypollack]\n",
              "7                 Tom and Huck  ...     [peterhewitt]\n",
              "8                 Sudden Death  ...      [peterhyams]\n",
              "9                    GoldenEye  ...  [martincampbell]\n",
              "\n",
              "[10 rows x 5 columns]"
            ]
          },
          "metadata": {
            "tags": []
          },
          "execution_count": 10
        }
      ]
    },
    {
      "cell_type": "code",
      "metadata": {
        "colab": {
          "base_uri": "https://localhost:8080/"
        },
        "id": "HIb4ynjo9pRa",
        "outputId": "3a4aa754-68e5-450d-dd9c-1328060081ac"
      },
      "source": [
        "metadata['combined'] =  metadata['keywords'] + metadata['cast'] + metadata['director'] + metadata['genres']\n",
        "metadata['combined'] = metadata['combined'].apply(lambda x: ' '.join(x))\n",
        "metadata['combined'].head()\n"
      ],
      "execution_count": 11,
      "outputs": [
        {
          "output_type": "execute_result",
          "data": {
            "text/plain": [
              "0    jealousi toy boy tomhanks timallen donrickles ...\n",
              "1    boardgam disappear basedonchildren'sbook robin...\n",
              "2    fish bestfriend duringcreditssting waltermatth...\n",
              "3    basedonnovel interracialrelationship singlemot...\n",
              "4    babi midlifecrisi confid stevemartin dianekeat...\n",
              "Name: combined, dtype: object"
            ]
          },
          "metadata": {
            "tags": []
          },
          "execution_count": 11
        }
      ]
    },
    {
      "cell_type": "code",
      "metadata": {
        "id": "d2ul8Bg6byoJ"
      },
      "source": [
        "metadata = metadata.reset_index()\n",
        "metadata[['index','title','combined']].to_csv(\"/content/movies_metadata.csv\",index = False)"
      ],
      "execution_count": 12,
      "outputs": []
    },
    {
      "cell_type": "code",
      "metadata": {
        "id": "5hgQ-bPA9zNV"
      },
      "source": [
        "def get_recommendations(title):\n",
        "    data = pd.read_csv(\"/content/movies_metadata.csv\")\n",
        "    count = CountVectorizer(stop_words='english')\n",
        "    indices = pd.Series(data.index, index=data['title'])\n",
        "    count_matrix = count.fit_transform(data['combined'].astype('U'))\n",
        "    cosine_sim = cosine_similarity(count_matrix[indices[title]], count_matrix)\n",
        "    sim_scores = list(enumerate(cosine_sim[0]))\n",
        "    sim_scores = sorted(sim_scores, key=lambda x: x[1], reverse=True)\n",
        "    sim_scores = sim_scores[1:11]\n",
        "    movie_indices = [i[0] for i in sim_scores]\n",
        "\n",
        "    return data['title'].iloc[movie_indices]\n",
        "\n"
      ],
      "execution_count": 14,
      "outputs": []
    },
    {
      "cell_type": "code",
      "metadata": {
        "colab": {
          "base_uri": "https://localhost:8080/"
        },
        "id": "I5Myds5lRzBO",
        "outputId": "54482131-f739-41c6-f4f2-2cc880af2eba"
      },
      "source": [
        "get_recommendations('Batman')"
      ],
      "execution_count": 15,
      "outputs": [
        {
          "output_type": "execute_result",
          "data": {
            "text/plain": [
              "1349                     Batman Returns\n",
              "1511                     Batman & Robin\n",
              "18480    G.I. Joe: The Revenge of Cobra\n",
              "150                      Batman Forever\n",
              "1363                      Mars Attacks!\n",
              "2546                           Superman\n",
              "2547                        Superman II\n",
              "11162                  Superman Returns\n",
              "11889                      Spider-Man 3\n",
              "21269                      Man of Steel\n",
              "Name: title, dtype: object"
            ]
          },
          "metadata": {
            "tags": []
          },
          "execution_count": 15
        }
      ]
    }
  ]
}